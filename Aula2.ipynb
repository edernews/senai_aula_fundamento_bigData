{
 "cells": [
  {
   "cell_type": "markdown",
   "id": "402ea184",
   "metadata": {},
   "source": [
    "## Estrutura de Decisão "
   ]
  },
  {
   "cell_type": "code",
   "execution_count": null,
   "id": "522ede1d",
   "metadata": {},
   "outputs": [],
   "source": [
    "##Exercício 01 – Crie uma variável chamada \"idade\" e atribua um valor inteiro a ela.\n",
    "##Verifique se a idade é maior ou igual a 18 e imprima \"Maior de idade\" ou \"Menor de idade\" de acordo com a condição."
   ]
  },
  {
   "cell_type": "code",
   "execution_count": null,
   "id": "60d150b3",
   "metadata": {},
   "outputs": [],
   "source": [
    "idade = 25\n",
    "if idade >= 18:\n",
    "    print(\"É maior de idade\")\n",
    "else:\n",
    "    print(\"É Menor de idade\")"
   ]
  },
  {
   "cell_type": "markdown",
   "id": "724e12e9",
   "metadata": {},
   "source": [
    "## Exercício 02 - Crie uma variável chamada \"número\" e atribua um valor inteiro a ela. Verifique se o número é positivo, negativo ou zero e imprima a mensagem correspondente."
   ]
  },
  {
   "cell_type": "code",
   "execution_count": null,
   "id": "cb5d517a",
   "metadata": {},
   "outputs": [],
   "source": [
    "numero = 0\n",
    "if numero > 0:\n",
    "    print(\"O numero é Positivo\")\n",
    "else:\n",
    "    print(\"O numero é Negativo\")\n",
    "    "
   ]
  },
  {
   "cell_type": "code",
   "execution_count": null,
   "id": "4892da07",
   "metadata": {},
   "outputs": [],
   "source": [
    "numero = -1\n",
    "if numero > 0:\n",
    "    print(\"O numero é Positivo\")\n",
    "elif numero < 0:\n",
    "    print(\"O numero é negativo\")\n",
    "else:\n",
    "    print(\"O numero é Zero\")\n",
    "    "
   ]
  },
  {
   "cell_type": "markdown",
   "id": "bdc7083c",
   "metadata": {},
   "source": [
    "## Exercício 03 - Crie duas variáveis, \"nota1\" e \"nota2\", e atribua valores numéricos a elas. Verifique se a média das notas é maior ou igual a 7 e imprima \"Aprovado\" ou \"Reprovado\" de acordo com a condição."
   ]
  },
  {
   "cell_type": "code",
   "execution_count": null,
   "id": "bc23088f",
   "metadata": {},
   "outputs": [],
   "source": [
    "## recebendo as NOTAS ## \n",
    "nota1 = 5\n",
    "nota2 = 5\n",
    "\n",
    "## somando as notas ###\n",
    "soma = (nota1 + nota2 )\n",
    "media = (soma / 2)\n",
    "print(\"Sua nota foi \",media)\n",
    "\n",
    "if media >= 7:\n",
    "    print(\"Aprovadoooo \")\n",
    "else :\n",
    "    print(\"Reprovadooooo \")\n",
    "\n"
   ]
  },
  {
   "cell_type": "code",
   "execution_count": null,
   "id": "65aa5fe3",
   "metadata": {},
   "outputs": [],
   "source": [
    "## Segundo modelo \n",
    "\n",
    "nota1 = input(\"Digite a primeira Nota \")\n",
    "nota2 = input(\"Digite a segunda Nota \")\n",
    "\n",
    "## converte inteiro para float\n",
    "\n",
    "nota1 = float(nota1)\n",
    "nota2 = float(nota2)\n",
    "\n",
    "media = (nota1 + nota2) / 2\n",
    "\n",
    "print(\"Sua nota foi\",media)\n",
    "\n",
    "if media >= 7:\n",
    "    print(\"Você foi Aprovadoooooo\")\n",
    "else :\n",
    "    print(\"Voce foi Reprovadooooo\")\n"
   ]
  },
  {
   "cell_type": "markdown",
   "id": "5ce5e8c4",
   "metadata": {},
   "source": [
    "## Exercício 04 - Crie uma variável chamada \"idade\" e atribua um valor inteiro a ela. Verifique se a idade está dentro do intervalo de 18 a 30 (inclusive) e imprima a mensagem \"Idade válida\" ou \"Idade inválida\" de acordo com a condição."
   ]
  },
  {
   "cell_type": "code",
   "execution_count": null,
   "id": "7ac2ed58",
   "metadata": {},
   "outputs": [],
   "source": [
    "idade = 25 \n",
    "if idade >= 18 and idade <= 30:\n",
    "    print(\"Idade Valida\")\n",
    "else:\n",
    "    print(\"Idade Invalida\")\n"
   ]
  },
  {
   "cell_type": "markdown",
   "id": "186dca1e",
   "metadata": {},
   "source": [
    "## Exercício 05 - Crie uma variável chamada \"numero\" e atribua um valor inteiro a ela. Verifique se o número é par ou ímpar e imprima a mensagem correspondente"
   ]
  },
  {
   "cell_type": "code",
   "execution_count": null,
   "id": "bfe56ea4",
   "metadata": {},
   "outputs": [],
   "source": [
    "numero = int(input(\"Digite um numero para saber se o numero é par ? \"))\n",
    "resto = numero % 2\n",
    "if resto == 0:\n",
    "    print(\" O numero é Par \")\n",
    "else:\n",
    "    print(\"O numero é impar\")"
   ]
  },
  {
   "cell_type": "code",
   "execution_count": null,
   "id": "bd04dc74",
   "metadata": {},
   "outputs": [],
   "source": [
    "numero = int(input(\"Digite um numero para saber se o numero é par ? \"))\n",
    "if numero % 2 == 0:\n",
    "    print(\" O numero é Par \")\n",
    "else:\n",
    "    print(\"O numero é impar\")"
   ]
  },
  {
   "cell_type": "markdown",
   "id": "dc1a88f4",
   "metadata": {},
   "source": [
    "## Exercício 06 - Crie uma variável chamada \"horario\" e atribua um valor inteiro representando a hora do dia (em formato 24 horas). Verifique se o horário está dentro do período da manhã (das 6h às 12h), da tarde (das 12h às 18h) ou da noite (das 18h às 23h) e imprima a mensagem correspondente."
   ]
  },
  {
   "cell_type": "code",
   "execution_count": null,
   "id": "accc407c",
   "metadata": {},
   "outputs": [],
   "source": [
    "horario = input(\"Digite um horario \")\n",
    "horario = int(horario)\n",
    "\n",
    "if horario >= 6 and horario <= 12:\n",
    "    print(\" Bom dia vc esta de manhã\")\n",
    "elif horario >= 12 and horario <= 18:\n",
    "    print(\" Boa tarde vc esta no horario da tarde \")\n",
    "else:\n",
    "    print( \" Boa noite, vc esta de noite\")\n",
    "    \n",
    "\n",
    "\n",
    "\n",
    "\n",
    "  "
   ]
  },
  {
   "cell_type": "markdown",
   "id": "4a9eb746",
   "metadata": {},
   "source": [
    "### Exercício 07 - Crie uma variável chamada \"peso\" e atribua um valor numérico a ela. Verifique se o peso está dentro do intervalo de 50 a 100 (inclusive) e imprima a mensagem \"Peso válido\" ou \"Peso inválido\" de acordo com a condição."
   ]
  },
  {
   "cell_type": "code",
   "execution_count": null,
   "id": "5d39d569",
   "metadata": {},
   "outputs": [],
   "source": [
    "peso = int(input(\" Digite um peso \"))\n",
    "if peso >= 50 and peso <= 100:\n",
    "    print(\"Peso Valido\")\n",
    "else:\n",
    "    print(\"Peso invalido\")\n",
    "    "
   ]
  },
  {
   "cell_type": "markdown",
   "id": "83103989",
   "metadata": {},
   "source": [
    "### Exercício 08 - Crie uma variável chamada \"numero\" e atribua um valor inteiro a ela. Verifique se o número é múltiplo de 3 e de 5 ao mesmo tempo e imprima a mensagem correspondente."
   ]
  },
  {
   "cell_type": "code",
   "execution_count": null,
   "id": "0014609f",
   "metadata": {},
   "outputs": [],
   "source": [
    "numero = int(input(\"Digite um numero para saber se ele é multiplo \"))\n",
    "if numero % 3 == 0 and numero % 5 == 0 :\n",
    "    print(\" O numero é multiplo \")\n",
    "else:\n",
    "    print(\"O numero não é multiplo\")"
   ]
  },
  {
   "cell_type": "markdown",
   "id": "4be060b8",
   "metadata": {},
   "source": [
    "### Exercício 09 - Crie uma variável chamada \"ano\" e atribua um valor inteiro representando um ano. Verifique se o ano é bissexto (divisível por 4, mas não por 100, exceto se for divisível por 400) e imprima a mensagem correspondente."
   ]
  },
  {
   "cell_type": "code",
   "execution_count": null,
   "id": "8d3ebd0a",
   "metadata": {},
   "outputs": [],
   "source": [
    "ano = int(input(\"Digite um ano para consultar \"))\n",
    "if ano % 4 == 0 and ano "
   ]
  },
  {
   "cell_type": "markdown",
   "id": "8d24fc05",
   "metadata": {},
   "source": [
    "### Exercício 11 - Faça um Programa que peça dois números e imprima o maior deles."
   ]
  },
  {
   "cell_type": "code",
   "execution_count": 5,
   "id": "c837fd84",
   "metadata": {},
   "outputs": [
    {
     "name": "stdout",
     "output_type": "stream",
     "text": [
      "Digite o primeiro número 150\n",
      "Digite o segundo número  200\n",
      "O numero Maior é o número 200\n"
     ]
    }
   ],
   "source": [
    "numero1 = int(input(\"Digite o primeiro número \"))\n",
    "numero2 = int(input(\"Digite o segundo número  \"))\n",
    "\n",
    "if numero1 > numero2 :\n",
    "    print(f'O numero Maior é o número {numero1}')\n",
    "else:\n",
    "    print(f'O numero Maior é o número {numero2}')"
   ]
  },
  {
   "cell_type": "markdown",
   "id": "a85263a5",
   "metadata": {},
   "source": [
    "### Exercício 16 - Faça um Programa que leia três números e mostre o maior deles."
   ]
  },
  {
   "cell_type": "code",
   "execution_count": 24,
   "id": "1c1f8c8d",
   "metadata": {},
   "outputs": [
    {
     "name": "stdout",
     "output_type": "stream",
     "text": [
      "Digite o primeiro numero 1\n",
      "Digite o segundo numero  2\n",
      "Digite o terceiro numero 3\n",
      " O segundo numero que vc digitou é o maior 2\n"
     ]
    }
   ],
   "source": [
    "numero1 = int(input(\"Digite o primeiro numero \"))\n",
    "numero2 = int(input(\"Digite o segundo numero  \"))\n",
    "numero3 = int(input(\"Digite o terceiro numero \"))\n",
    "\n",
    "if numero1 > numero2 and numero3 :\n",
    "    print(f' O primeiro numero que vc digitou é o maior {numero1}')\n",
    "elif numero2 > numero1 and numero3:\n",
    "    print(f' O segundo numero que vc digitou é o maior {numero2}')\n",
    "elif numero3 > numero1 and numero2:\n",
    "    print(f' O terceiro numero que vc digitou é o maior {numero3}')"
   ]
  },
  {
   "cell_type": "code",
   "execution_count": null,
   "id": "cd48cf36",
   "metadata": {},
   "outputs": [],
   "source": []
  }
 ],
 "metadata": {
  "kernelspec": {
   "display_name": "Python 3 (ipykernel)",
   "language": "python",
   "name": "python3"
  },
  "language_info": {
   "codemirror_mode": {
    "name": "ipython",
    "version": 3
   },
   "file_extension": ".py",
   "mimetype": "text/x-python",
   "name": "python",
   "nbconvert_exporter": "python",
   "pygments_lexer": "ipython3",
   "version": "3.10.9"
  }
 },
 "nbformat": 4,
 "nbformat_minor": 5
}
